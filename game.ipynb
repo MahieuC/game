{
 "cells": [
  {
   "cell_type": "code",
   "execution_count": 1,
   "metadata": {},
   "outputs": [],
   "source": [
    "import numpy as np\n",
    "import matplotlib.pyplot as plt"
   ]
  },
  {
   "cell_type": "markdown",
   "metadata": {},
   "source": [
    "Jeu 1 : On parie sur une des deux couleurs une certaine mise."
   ]
  },
  {
   "cell_type": "code",
   "execution_count": 2,
   "metadata": {},
   "outputs": [],
   "source": [
    "def game(mise: float, p: float = 18/37, display: bool = False):\n",
    "    res = 2 * mise * np.random.binomial(1, p)\n",
    "    if display:\n",
    "        print(res)\n",
    "    return res"
   ]
  },
  {
   "cell_type": "markdown",
   "metadata": {},
   "source": [
    "## 1. Premiers jeux"
   ]
  },
  {
   "cell_type": "code",
   "execution_count": 3,
   "metadata": {},
   "outputs": [],
   "source": [
    "money = 10"
   ]
  },
  {
   "cell_type": "markdown",
   "metadata": {},
   "source": [
    "Tant qu'on veut jouer, on clique : "
   ]
  },
  {
   "cell_type": "code",
   "execution_count": 4,
   "metadata": {},
   "outputs": [
    {
     "name": "stdout",
     "output_type": "stream",
     "text": [
      "20\n"
     ]
    }
   ],
   "source": [
    "money = game(money, display=True)"
   ]
  },
  {
   "cell_type": "markdown",
   "metadata": {},
   "source": [
    "## 2. Jeu jusqu'à perte"
   ]
  },
  {
   "cell_type": "markdown",
   "metadata": {},
   "source": [
    "Jeu 2 : On a u0 euros qu'on joue jusqu'à ce qu'on perde à la roulette (sûr de perdre) mais on voit jusqu'à combien on peut monter."
   ]
  },
  {
   "cell_type": "code",
   "execution_count": 5,
   "metadata": {},
   "outputs": [
    {
     "data": {
      "text/plain": [
       "[1, 2, 0]"
      ]
     },
     "execution_count": 5,
     "metadata": {},
     "output_type": "execute_result"
    }
   ],
   "source": [
    "u0 = 1\n",
    "\n",
    "until_loss = [u0]\n",
    "while until_loss[-1] > 0:\n",
    "    until_loss.append(\n",
    "        game(until_loss[-1])\n",
    "    )\n",
    "\n",
    "until_loss"
   ]
  },
  {
   "cell_type": "markdown",
   "metadata": {},
   "source": [
    "## 3. Application de stratégie"
   ]
  },
  {
   "cell_type": "markdown",
   "metadata": {},
   "source": [
    "Jeu 3 : Tant qu'on perd, on double la mise tant qu'on peut. Sinon on se retire."
   ]
  },
  {
   "cell_type": "code",
   "execution_count": 6,
   "metadata": {},
   "outputs": [
    {
     "data": {
      "text/plain": [
       "'Résumé : gain=2 | mise totale=1 | gain_total=1'"
      ]
     },
     "execution_count": 6,
     "metadata": {},
     "output_type": "execute_result"
    }
   ],
   "source": [
    "MISES = []\n",
    "\n",
    "# Initialisation\n",
    "mise = 1\n",
    "dernier_gain = game(mise, p=1/2)\n",
    "MISES.append(mise)\n",
    "\n",
    "# Jeu\n",
    "while dernier_gain == 0:\n",
    "    mise *= 2\n",
    "    dernier_gain = game(mise, p=1/2)\n",
    "    MISES.append(mise)\n",
    "\n",
    "# Conclusion\n",
    "seul_gain = dernier_gain\n",
    "mise_totale = sum(MISES)\n",
    "gain_total = seul_gain - mise_totale\n",
    "\n",
    "f\"Résumé : gain={seul_gain} | mise totale={mise_totale} | gain_total={gain_total}\""
   ]
  },
  {
   "cell_type": "markdown",
   "metadata": {},
   "source": [
    "mise en fonction"
   ]
  },
  {
   "cell_type": "code",
   "execution_count": 7,
   "metadata": {},
   "outputs": [
    {
     "data": {
      "text/plain": [
       "'Résumé : gain=0 | mise totale=70 | gain_total=-70'"
      ]
     },
     "execution_count": 7,
     "metadata": {},
     "output_type": "execute_result"
    }
   ],
   "source": [
    "def next_total_bets(bets: list[float]) -> float:\n",
    "    return sum(bets) + bets[-1] * 2\n",
    "\n",
    "def double_it_until_you_win(initial_bet: float = 1, p: float = 1/2, maximal_capital: float = np.inf):\n",
    "    # Initialisation\n",
    "    last_profit = game(initial_bet, p=p)\n",
    "    BETS = [initial_bet]\n",
    "\n",
    "    # Jeu\n",
    "    while last_profit == 0 and next_total_bets(BETS) < maximal_capital:\n",
    "        last_profit = game(BETS[-1] * 2, p=p)\n",
    "        BETS.append(BETS[-1] * 2)\n",
    "\n",
    "    only_bet = last_profit\n",
    "    total_bet = sum(BETS)\n",
    "    return only_bet, total_bet\n",
    "\n",
    "mise_initiale = 10\n",
    "seul_gain, mise_totale = double_it_until_you_win(mise_initiale, p=5/37, maximal_capital=100)\n",
    "gain_total = seul_gain - mise_totale\n",
    "\n",
    "f\"Résumé : gain={seul_gain} | mise totale={mise_totale} | gain_total={gain_total}\""
   ]
  },
  {
   "cell_type": "code",
   "execution_count": 8,
   "metadata": {},
   "outputs": [],
   "source": [
    "def extr(list, k):\n",
    "    return [sub_list[k] for sub_list in list]"
   ]
  },
  {
   "cell_type": "markdown",
   "metadata": {},
   "source": [
    "Jeu 4 : Tant qu'on perd, on double la mise tant qu'on peut. Si on perd ou qu'on atteint un seuil de retire on se retire.\n",
    "Question d'optimisation : à combien se retire-t-on pour gagner le plus possible (potentiellement perdre le moins possible et alors on concluera que jouer ets à perte.)."
   ]
  },
  {
   "cell_type": "code",
   "execution_count": 9,
   "metadata": {},
   "outputs": [
    {
     "name": "stdout",
     "output_type": "stream",
     "text": [
      "Capital de sortie du casino = 2000€\n"
     ]
    },
    {
     "data": {
      "text/plain": [
       "<matplotlib.legend.Legend at 0x10e1f0450>"
      ]
     },
     "execution_count": 9,
     "metadata": {},
     "output_type": "execute_result"
    },
    {
     "data": {
      "image/png": "[encoded data removed]",
      "text/plain": [
       "<Figure size 640x480 with 2 Axes>"
      ]
     },
     "metadata": {},
     "output_type": "display_data"
    }
   ],
   "source": [
    "capital = 1200\n",
    "cahout_treshold = 2000\n",
    "\n",
    "mise_a_chaque_jeu = 1\n",
    "p = 18/37\n",
    "\n",
    "games = []\n",
    "while 0 < capital < cahout_treshold:\n",
    "    gain, mise_totale = double_it_until_you_win(  # tant qu'on a du capital, on joue\n",
    "        initial_bet=mise_a_chaque_jeu,\n",
    "        p=p,\n",
    "        maximal_capital=capital,\n",
    "    )\n",
    "    gain_total = gain - mise_totale\n",
    "    capital = max(0, capital + gain_total)\n",
    "    games.append(\n",
    "        [gain, mise_totale, gain_total, capital]\n",
    "    )\n",
    "\n",
    "print(f\"Capital de sortie du casino = {capital}€\")\n",
    "\n",
    "plt.subplot(211)\n",
    "plt.plot(extr(games, 2), label=\"gain à l'étape n\")\n",
    "plt.legend(loc=3)\n",
    "\n",
    "plt.subplot(212)\n",
    "plt.plot(extr(games, 3), label=\"capital à l'étape n\")\n",
    "plt.legend(loc=1)\n",
    "\n"
   ]
  },
  {
   "cell_type": "markdown",
   "metadata": {},
   "source": [
    "Mise en fonction du jeu 4 :"
   ]
  },
  {
   "cell_type": "code",
   "execution_count": 10,
   "metadata": {},
   "outputs": [],
   "source": [
    "def game_4(game_bet: float = 1, p: float = 18/37, capital: float = 1200, cashout_treshold: float = 2000):\n",
    "    games = []\n",
    "    while 0 < capital < cashout_treshold:\n",
    "        gain, mise_totale = double_it_until_you_win(\n",
    "            initial_bet=game_bet,\n",
    "            p=p,\n",
    "            maximal_capital=capital,\n",
    "        )\n",
    "        gain_total = gain - mise_totale\n",
    "        capital = max(0, capital + gain_total)\n",
    "        games.append(\n",
    "            [gain, mise_totale, gain_total, capital]\n",
    "        )\n",
    "    return games"
   ]
  },
  {
   "cell_type": "code",
   "execution_count": 11,
   "metadata": {},
   "outputs": [
    {
     "name": "stdout",
     "output_type": "stream",
     "text": [
      "Capital de sortie du casino = 0€\n"
     ]
    }
   ],
   "source": [
    "games = game_4(\n",
    "    game_bet=1,\n",
    "    p=18/37,\n",
    "    capital=1200,\n",
    "    cashout_treshold=2000,\n",
    ")\n",
    "\n",
    "capital = extr(games, 3)[-1]\n",
    "print(f\"Capital de sortie du casino = {capital}€\")"
   ]
  },
  {
   "cell_type": "markdown",
   "metadata": {},
   "source": [
    "Expérience sur plusieurs séries : "
   ]
  },
  {
   "cell_type": "code",
   "execution_count": 12,
   "metadata": {},
   "outputs": [
    {
     "name": "stdout",
     "output_type": "stream",
     "text": [
      "Espérance des jeux : -180.0\n",
      "Probabilité intrinsèque : 0.51\n"
     ]
    }
   ],
   "source": [
    "mise_initiale = 1200\n",
    "seuil_de_retrait = 2000  # valeur à optimiser\n",
    "mise_d_entree = 1  # multiple du jeu (en vrai, c'est important)\n",
    "\n",
    "GAMES_4_LIST = [\n",
    "    game_4(\n",
    "        game_bet=mise_d_entree,\n",
    "        p=18/37,\n",
    "        capital=mise_initiale,\n",
    "        cashout_treshold=seuil_de_retrait,\n",
    "    )\n",
    "    for _ in range(100)\n",
    "]\n",
    "\n",
    "# chaque valeur représente une sortie du casino\n",
    "exit_capitals = [extr(game, 3)[-1] - mise_initiale for game in GAMES_4_LIST]\n",
    "esperance = np.mean(exit_capitals)\n",
    "\n",
    "# Probabilité intrinsèque\n",
    "p = (esperance + mise_initiale) / seuil_de_retrait\n",
    "\n",
    "print(f\"Espérance des jeux : {esperance}\\nProbabilité intrinsèque : {p}\")"
   ]
  },
  {
   "cell_type": "markdown",
   "metadata": {},
   "source": [
    "Mise en fonction :"
   ]
  },
  {
   "cell_type": "code",
   "execution_count": 31,
   "metadata": {},
   "outputs": [
    {
     "data": {
      "text/plain": [
       "(np.float64(-287.0), np.float64(0.4565))"
      ]
     },
     "execution_count": 31,
     "metadata": {},
     "output_type": "execute_result"
    }
   ],
   "source": [
    "def expected_value_game_4(seuil_de_retrait, mise_initiale: float = 1200, mise_d_entree: float = 1, p: float = 18/37, N: int = 100):\n",
    "    GAMES_4_LIST = [\n",
    "        game_4(\n",
    "            game_bet=mise_d_entree,\n",
    "            p=p,\n",
    "            capital=mise_initiale,\n",
    "            cashout_treshold=seuil_de_retrait,\n",
    "        )\n",
    "        for _ in range(N)\n",
    "    ]\n",
    "    try:\n",
    "        exit_capitals = [extr(game, 3)[-1] - mise_initiale for game in GAMES_4_LIST]\n",
    "        esperance = np.mean(exit_capitals)\n",
    "        p = (esperance + mise_initiale) / seuil_de_retrait\n",
    "    except:\n",
    "        esperance, p = np.nan, np.nan\n",
    "    return esperance, p\n",
    "\n",
    "seuil_de_retrait = 2000  # valeur à optimiser\n",
    "expected_value_game_4(seuil_de_retrait, N=2000)"
   ]
  },
  {
   "cell_type": "markdown",
   "metadata": {},
   "source": [
    "Optimisation :"
   ]
  },
  {
   "cell_type": "code",
   "execution_count": 27,
   "metadata": {},
   "outputs": [],
   "source": [
    "N = 10000\n",
    "seuil_de_retrait_values = range(1200, 3000, 50)\n",
    "\n",
    "expectancy = [\n",
    "    expected_value_game_4(seuil_de_retrait, N=N)\n",
    "    for seuil_de_retrait in seuil_de_retrait_values\n",
    "]"
   ]
  },
  {
   "cell_type": "markdown",
   "metadata": {},
   "source": [
    "Jeu déséquilibré :"
   ]
  },
  {
   "cell_type": "code",
   "execution_count": 30,
   "metadata": {},
   "outputs": [
    {
     "data": {
      "text/plain": [
       "[<matplotlib.lines.Line2D at 0x1494c5190>]"
      ]
     },
     "execution_count": 30,
     "metadata": {},
     "output_type": "execute_result"
    },
    {
     "data": {
      "image/png": "[encoded data removed]",
      "text/plain": [
       "<Figure size 640x480 with 1 Axes>"
      ]
     },
     "metadata": {},
     "output_type": "display_data"
    }
   ],
   "source": [
    "plt.plot(seuil_de_retrait_values, extr(expectancy, 0))"
   ]
  },
  {
   "cell_type": "markdown",
   "metadata": {},
   "source": [
    "Jeu équilibré :"
   ]
  },
  {
   "cell_type": "code",
   "execution_count": 33,
   "metadata": {},
   "outputs": [],
   "source": [
    "N = 1000\n",
    "seuil_de_retrait_values = range(1200, 3000, 50)\n",
    "\n",
    "expectancy = [\n",
    "    expected_value_game_4(seuil_de_retrait, p=1/2, N=N)\n",
    "    for seuil_de_retrait in seuil_de_retrait_values\n",
    "]"
   ]
  },
  {
   "cell_type": "code",
   "execution_count": 34,
   "metadata": {},
   "outputs": [
    {
     "data": {
      "text/plain": [
       "[<matplotlib.lines.Line2D at 0x1475433d0>]"
      ]
     },
     "execution_count": 34,
     "metadata": {},
     "output_type": "execute_result"
    },
    {
     "data": {
      "image/png": "[encoded data removed]",
      "text/plain": [
       "<Figure size 640x480 with 1 Axes>"
      ]
     },
     "metadata": {},
     "output_type": "display_data"
    }
   ],
   "source": [
    "plt.plot(seuil_de_retrait_values, extr(expectancy, 0))"
   ]
  }
 ],
 "metadata": {
  "kernelspec": {
   "display_name": "data-pipeline-8AJ7SzIH-py3.11",
   "language": "python",
   "name": "python3"
  },
  "language_info": {
   "codemirror_mode": {
    "name": "ipython",
    "version": 3
   },
   "file_extension": ".py",
   "mimetype": "text/x-python",
   "name": "python",
   "nbconvert_exporter": "python",
   "pygments_lexer": "ipython3",
   "version": "3.11.11"
  }
 },
 "nbformat": 4,
 "nbformat_minor": 2
}
